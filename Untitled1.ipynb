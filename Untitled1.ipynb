{
 "cells": [
  {
   "cell_type": "markdown",
   "id": "a7d66095",
   "metadata": {},
   "source": [
    "# Ch.2 Financial Data Structures (Exercise)"
   ]
  },
  {
   "cell_type": "markdown",
   "id": "d9852693",
   "metadata": {},
   "source": [
    "## 3.1 Form doolar bars for E-mini S&P 500 futures:\n",
    "\n",
    "### (a) Apply a symmetric CUSUM filter (Ch.2, 2.5.2.1) where the threshold is the standard deviation of daily returns(Snippet 3.1)."
   ]
  },
  {
   "cell_type": "code",
   "execution_count": null,
   "id": "948c12b8",
   "metadata": {},
   "outputs": [],
   "source": []
  },
  {
   "cell_type": "markdown",
   "id": "b401deed",
   "metadata": {},
   "source": [
    "### (b) Use Snippet 3.4 on a pandas series $t1$, where $numDays=1$."
   ]
  },
  {
   "cell_type": "code",
   "execution_count": null,
   "id": "b6d591a8",
   "metadata": {},
   "outputs": [],
   "source": []
  },
  {
   "cell_type": "code",
   "execution_count": null,
   "id": "43783eec",
   "metadata": {},
   "outputs": [],
   "source": []
  }
 ],
 "metadata": {
  "kernelspec": {
   "display_name": "Python 3 (ipykernel)",
   "language": "python",
   "name": "python3"
  },
  "language_info": {
   "codemirror_mode": {
    "name": "ipython",
    "version": 3
   },
   "file_extension": ".py",
   "mimetype": "text/x-python",
   "name": "python",
   "nbconvert_exporter": "python",
   "pygments_lexer": "ipython3",
   "version": "3.10.5"
  }
 },
 "nbformat": 4,
 "nbformat_minor": 5
}
