{
 "cells": [
  {
   "cell_type": "markdown",
   "id": "c0420b69",
   "metadata": {},
   "source": [
    "# Ch.2 Financial Data Structures (Exercise)"
   ]
  },
  {
   "cell_type": "markdown",
   "id": "e79addbd",
   "metadata": {},
   "source": [
    "## 3.1 Form doolar bars for E-mini S&P 500 futures:\n",
    "\n",
    "### (a) Apply a symmetric CUSUM filter (Ch.2, 2.5.2.1) where the threshold is the standard deviation of daily returns(Snippet 3.1)."
   ]
  },
  {
   "cell_type": "code",
   "execution_count": null,
   "id": "af57f458",
   "metadata": {},
   "outputs": [],
   "source": []
  },
  {
   "cell_type": "markdown",
   "id": "6f1ae79d",
   "metadata": {},
   "source": [
    "### (b) Use Snippet 3.4 on a pandas series $t1$, where $numDays=1$."
   ]
  },
  {
   "cell_type": "code",
   "execution_count": null,
   "id": "d84ff680",
   "metadata": {},
   "outputs": [],
   "source": []
  },
  {
   "cell_type": "markdown",
   "id": "d4005c6b",
   "metadata": {},
   "source": [
    "### (c) On those sampled features, apply the triple-barrier method, where $ptS1=[1,1]$ and $t1$ is the series you created in point 1.b."
   ]
  },
  {
   "cell_type": "code",
   "execution_count": null,
   "id": "173a6691",
   "metadata": {},
   "outputs": [],
   "source": []
  },
  {
   "cell_type": "markdown",
   "id": "cbe82d0c",
   "metadata": {},
   "source": [
    "### (d)"
   ]
  }
 ],
 "metadata": {
  "kernelspec": {
   "display_name": "qt",
   "language": "python",
   "name": "python3"
  },
  "language_info": {
   "codemirror_mode": {
    "name": "ipython",
    "version": 3
   },
   "file_extension": ".py",
   "mimetype": "text/x-python",
   "name": "python",
   "nbconvert_exporter": "python",
   "pygments_lexer": "ipython3",
   "version": "3.9.15"
  },
  "vscode": {
   "interpreter": {
    "hash": "3f9b209f5c332f56826984ff5b254473063f0f58175e4f964735e353dfd251c5"
   }
  }
 },
 "nbformat": 4,
 "nbformat_minor": 5
}
