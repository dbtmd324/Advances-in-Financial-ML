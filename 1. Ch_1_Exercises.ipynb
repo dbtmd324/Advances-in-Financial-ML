{
 "cells": [
  {
   "cell_type": "markdown",
   "id": "a766afa7",
   "metadata": {},
   "source": [
    "# 1. Financial ML as a Distinct Subject\n",
    "## Exercises"
   ]
  },
  {
   "cell_type": "markdown",
   "id": "b4c3c58f",
   "metadata": {},
   "source": [
    "## 1.1 Are you aware of firms that have attempted to transition from discretionary investments to ML-led investments, or blending them into what they call \"quantamental\" funds?"
   ]
  },
  {
   "cell_type": "markdown",
   "id": "5403932d",
   "metadata": {},
   "source": [
    "### a) Have they succeeded?"
   ]
  },
  {
   "cell_type": "markdown",
   "id": "94cdc97a",
   "metadata": {},
   "source": []
  },
  {
   "cell_type": "markdown",
   "id": "d5fc4757",
   "metadata": {},
   "source": [
    "### b) What are the cultural difficulties involved in this transition?"
   ]
  },
  {
   "cell_type": "markdown",
   "id": "56d748b3",
   "metadata": {},
   "source": []
  },
  {
   "cell_type": "markdown",
   "id": "c646b13b",
   "metadata": {},
   "source": [
    "## 1.2 What is the most important open problem in mathematical finance? If this problem was resolved, how could:"
   ]
  },
  {
   "cell_type": "markdown",
   "id": "e97655f2",
   "metadata": {},
   "source": [
    "### a) regulators use it to grant investment management licenses?"
   ]
  },
  {
   "cell_type": "markdown",
   "id": "a565aefb",
   "metadata": {},
   "source": []
  },
  {
   "cell_type": "markdown",
   "id": "223211fa",
   "metadata": {},
   "source": [
    "### b) investors use it to allocate funds?"
   ]
  },
  {
   "cell_type": "markdown",
   "id": "bb7488f1",
   "metadata": {},
   "source": []
  },
  {
   "cell_type": "markdown",
   "id": "f97a0d7d",
   "metadata": {},
   "source": [
    "### c) firms use it to reward researchers?"
   ]
  },
  {
   "cell_type": "markdown",
   "id": "545d522a",
   "metadata": {},
   "source": []
  },
  {
   "cell_type": "markdown",
   "id": "ed900e79",
   "metadata": {},
   "source": [
    "## 1.3 According to Institutional Investor, only 17% of hedge fund assets are managed by quantitative firms. That is about 500 billon dollars allocated in total across all quantitative funds as of June 2017, compared to 386 billion dollars a year earlier. What do you think is driving this massive reallocation of assets?"
   ]
  },
  {
   "cell_type": "markdown",
   "id": "1de23221",
   "metadata": {},
   "source": [
    "## 1.4 According to Institutional Investor's Rich List, how many quantitative investment firms are placed within the top 10 most profitable firms? How does that compare to the proportion of assets managed by quantitative funds?"
   ]
  },
  {
   "cell_type": "markdown",
   "id": "4e52cb0e",
   "metadata": {},
   "source": [
    "## 1.5 What is the key difference between econometric methods and ML? How would economics and finance benefit from updating theire statistical toolkit?"
   ]
  },
  {
   "cell_type": "markdown",
   "id": "8eadc7aa",
   "metadata": {},
   "source": [
    "## 1.6 Science has a very minimal understanding of how the human brain works. In this sense, the brain is an absolute black box. What do you think causes critics of financial ML to disregard it as a black box, while embracing discretionary investing?"
   ]
  },
  {
   "cell_type": "markdown",
   "id": "7610468f",
   "metadata": {},
   "source": [
    "## 1.7 You read a journal article that describes an investment strategy. In a backtest, it achieves an annualized Sharpe ratio in excess of 2, with a confidence level of 95%. Using theire dataset, you are able to reproduce their result in an independent backtest. Why is this discovery likely to be false?"
   ]
  },
  {
   "cell_type": "markdown",
   "id": "4f4d9780",
   "metadata": {},
   "source": [
    "## 1.8 Investment advisors are plagued with confilicts of interest while making decisions on behalf of their investors."
   ]
  },
  {
   "cell_type": "markdown",
   "id": "0f8cc6dc",
   "metadata": {},
   "source": [
    "### a) ML algorithms can manage investments without conflict of interests. Why?"
   ]
  },
  {
   "cell_type": "markdown",
   "id": "e6ea5965",
   "metadata": {},
   "source": []
  },
  {
   "cell_type": "markdown",
   "id": "017cf1c8",
   "metadata": {},
   "source": [
    "### b) Suppose that an ML algorithm makes a decision that leads to a loss. The algorithm did what it was programmed to do, and the investor agreed to the terms the terms of the program, as verified by forensic examination of the computer logs. In what sense is this situation better for the investor, compared to a loss caused by a discretionary PM's poor judgement? What is the investor's recourse in each instance?"
   ]
  },
  {
   "cell_type": "markdown",
   "id": "06ed8b2a",
   "metadata": {},
   "source": []
  },
  {
   "cell_type": "markdown",
   "id": "b2e0b283",
   "metadata": {},
   "source": [
    "### c) Would it make sense for financial advisors to benchmark their decisions against the decisions made by such neutral agents?"
   ]
  },
  {
   "cell_type": "markdown",
   "id": "f5d49757",
   "metadata": {},
   "source": []
  }
 ],
 "metadata": {
  "kernelspec": {
   "display_name": "Python 3 (ipykernel)",
   "language": "python",
   "name": "python3"
  },
  "language_info": {
   "codemirror_mode": {
    "name": "ipython",
    "version": 3
   },
   "file_extension": ".py",
   "mimetype": "text/x-python",
   "name": "python",
   "nbconvert_exporter": "python",
   "pygments_lexer": "ipython3",
   "version": "3.10.5"
  }
 },
 "nbformat": 4,
 "nbformat_minor": 5
}
